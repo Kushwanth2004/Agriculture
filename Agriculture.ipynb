{
  "nbformat": 4,
  "nbformat_minor": 0,
  "metadata": {
    "colab": {
      "provenance": []
    },
    "kernelspec": {
      "name": "python3",
      "display_name": "Python 3"
    },
    "language_info": {
      "name": "python"
    }
  },
  "cells": [
    {
      "cell_type": "code",
      "source": [
        "pip install pandas scikit-learn\n"
      ],
      "metadata": {
        "colab": {
          "base_uri": "https://localhost:8080/"
        },
        "id": "u2kaEoBtptiK",
        "outputId": "6c634420-2927-4101-f9fa-f6fe10e40ae0"
      },
      "execution_count": 3,
      "outputs": [
        {
          "output_type": "stream",
          "name": "stdout",
          "text": [
            "Requirement already satisfied: pandas in /usr/local/lib/python3.10/dist-packages (2.1.4)\n",
            "Requirement already satisfied: scikit-learn in /usr/local/lib/python3.10/dist-packages (1.3.2)\n",
            "Requirement already satisfied: numpy<2,>=1.22.4 in /usr/local/lib/python3.10/dist-packages (from pandas) (1.26.4)\n",
            "Requirement already satisfied: python-dateutil>=2.8.2 in /usr/local/lib/python3.10/dist-packages (from pandas) (2.8.2)\n",
            "Requirement already satisfied: pytz>=2020.1 in /usr/local/lib/python3.10/dist-packages (from pandas) (2024.1)\n",
            "Requirement already satisfied: tzdata>=2022.1 in /usr/local/lib/python3.10/dist-packages (from pandas) (2024.1)\n",
            "Requirement already satisfied: scipy>=1.5.0 in /usr/local/lib/python3.10/dist-packages (from scikit-learn) (1.13.1)\n",
            "Requirement already satisfied: joblib>=1.1.1 in /usr/local/lib/python3.10/dist-packages (from scikit-learn) (1.4.2)\n",
            "Requirement already satisfied: threadpoolctl>=2.0.0 in /usr/local/lib/python3.10/dist-packages (from scikit-learn) (3.5.0)\n",
            "Requirement already satisfied: six>=1.5 in /usr/local/lib/python3.10/dist-packages (from python-dateutil>=2.8.2->pandas) (1.16.0)\n"
          ]
        }
      ]
    },
    {
      "cell_type": "code",
      "source": [
        "import pandas as pd\n",
        "from sklearn.model_selection import train_test_split\n",
        "from sklearn.ensemble import RandomForestClassifier\n",
        "from sklearn.metrics import accuracy_score\n",
        "\n",
        "# --- Crop Recommendation System ---\n",
        "def crop_recommendation_system(soil_type, rainfall, temperature, ph):\n",
        "    # Sample dataset\n",
        "    data = {\n",
        "        'Soil_Type': ['Loamy', 'Clay', 'Sandy', 'Silty', 'Peaty', 'Chalky', 'Loamy'],\n",
        "        'Rainfall': [800, 1200, 600, 400, 900, 750, 950],\n",
        "        'Temperature': [22, 28, 18, 25, 24, 20, 27],\n",
        "        'PH': [6.5, 5.5, 7.0, 6.0, 6.8, 7.2, 6.4],\n",
        "        'Crop_Type': ['Wheat', 'Rice', 'Maize', 'Barley', 'Soybean', 'Oats', 'Tomato']\n",
        "    }\n",
        "\n",
        "    # Create DataFrame\n",
        "    df = pd.DataFrame(data)\n",
        "\n",
        "    # Convert categorical variable to numeric\n",
        "    df['Soil_Type'] = df['Soil_Type'].astype('category').cat.codes\n",
        "\n",
        "    # Features and Target variable\n",
        "    X = df[['Soil_Type', 'Rainfall', 'Temperature', 'PH']]\n",
        "    y = df['Crop_Type']\n",
        "\n",
        "    # Train-Test Split\n",
        "    X_train, X_test, y_train, y_test = train_test_split(X, y, test_size=0.2, random_state=42)\n",
        "\n",
        "    # Model Training\n",
        "    model = RandomForestClassifier(n_estimators=100, random_state=42)\n",
        "    model.fit(X_train, y_train)\n",
        "\n",
        "    # Evaluate model\n",
        "    y_pred = model.predict(X_test)\n",
        "    accuracy = accuracy_score(y_test, y_pred)\n",
        "    print(f\"Crop Recommendation System Accuracy: {accuracy * 100:.2f}%\")\n",
        "\n",
        "    # Predicting for new data\n",
        "    new_data = {'Soil_Type': soil_type, 'Rainfall': rainfall, 'Temperature': temperature, 'PH': ph}\n",
        "    new_data_df = pd.DataFrame([new_data])\n",
        "\n",
        "    # Prediction\n",
        "    predicted_crop = model.predict(new_data_df)\n",
        "    return predicted_crop[0]\n",
        "\n",
        "# --- Soil Management System ---\n",
        "def soil_management_system(ph, nutrient_levels):\n",
        "    recommendations = []\n",
        "\n",
        "    # PH Level Recommendation\n",
        "    if ph < 6.0:\n",
        "        recommendations.append(\"Apply lime to increase pH\")\n",
        "    elif ph > 7.5:\n",
        "        recommendations.append(\"Apply sulfur to decrease pH\")\n",
        "    else:\n",
        "        recommendations.append(\"pH level is optimal\")\n",
        "\n",
        "    # Nutrient Level Recommendations\n",
        "    if nutrient_levels['Nitrogen'] < 50:\n",
        "        recommendations.append(\"Add nitrogen-rich fertilizer\")\n",
        "    if nutrient_levels['Phosphorus'] < 30:\n",
        "        recommendations.append(\"Add phosphorus-rich fertilizer\")\n",
        "    if nutrient_levels['Potassium'] < 40:\n",
        "        recommendations.append(\"Add potassium-rich fertilizer\")\n",
        "\n",
        "    return recommendations\n",
        "\n",
        "# --- Main Function ---\n",
        "if __name__ == \"__main__\":\n",
        "    print(\"=== Crop Recommendation System ===\")\n",
        "    soil_type_input = int(input(\"Enter Soil Type (0 for Loamy, 1 for Clay, 2 for Sandy, 3 for Silty, 4 for Peaty, 5 for Chalky): \"))\n",
        "    rainfall_input = float(input(\"Enter Rainfall (in mm): \"))\n",
        "    temperature_input = float(input(\"Enter Temperature (in °C): \"))\n",
        "    ph_input = float(input(\"Enter PH Level: \"))\n",
        "\n",
        "    recommended_crop = crop_recommendation_system(soil_type_input, rainfall_input, temperature_input, ph_input)\n",
        "    print(f\"\\nRecommended Crop: {recommended_crop}\")\n",
        "\n",
        "    print(\"\\n=== Soil Management System ===\")\n",
        "    ph_level_input = float(input(\"Enter PH Level: \"))\n",
        "    nitrogen_input = float(input(\"Enter Nitrogen Level (mg/kg): \"))\n",
        "    phosphorus_input = float(input(\"Enter Phosphorus Level (mg/kg): \"))\n",
        "    potassium_input = float(input(\"Enter Potassium Level (mg/kg): \"))\n",
        "\n",
        "    nutrient_levels_input = {'Nitrogen': nitrogen_input, 'Phosphorus': phosphorus_input, 'Potassium': potassium_input}\n",
        "    soil_recommendations = soil_management_system(ph_level_input, nutrient_levels_input)\n",
        "\n",
        "    print(\"\\nSoil Management Recommendations:\")\n",
        "    for rec in soil_recommendations:\n",
        "        print(f\"- {rec}\")\n"
      ],
      "metadata": {
        "colab": {
          "base_uri": "https://localhost:8080/"
        },
        "id": "s8XzKbQQpuwu",
        "outputId": "2e8263d9-cc18-4f34-f08d-616dfc30224c"
      },
      "execution_count": 7,
      "outputs": [
        {
          "output_type": "stream",
          "name": "stdout",
          "text": [
            "=== Crop Recommendation System ===\n",
            "Enter Soil Type (0 for Loamy, 1 for Clay, 2 for Sandy, 3 for Silty, 4 for Peaty, 5 for Chalky): 1\n",
            "Enter Rainfall (in mm): 1100\n",
            "Enter Temperature (in °C): 26\n",
            "Enter PH Level: 6.0\n",
            "Crop Recommendation System Accuracy: 0.00%\n",
            "\n",
            "Recommended Crop: Tomato\n",
            "\n",
            "=== Soil Management System ===\n",
            "Enter PH Level: 5.8\n",
            "Enter Nitrogen Level (mg/kg): 40\n",
            "Enter Phosphorus Level (mg/kg): 20\n",
            "Enter Potassium Level (mg/kg): 35\n",
            "\n",
            "Soil Management Recommendations:\n",
            "- Apply lime to increase pH\n",
            "- Add nitrogen-rich fertilizer\n",
            "- Add phosphorus-rich fertilizer\n",
            "- Add potassium-rich fertilizer\n"
          ]
        }
      ]
    }
  ]
}